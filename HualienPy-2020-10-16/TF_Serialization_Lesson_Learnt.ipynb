{
 "cells": [
  {
   "cell_type": "markdown",
   "metadata": {
    "slideshow": {
     "slide_type": "slide"
    }
   },
   "source": [
    "# Model Serialization: Lesson Learnt from Tensorflow 1.x and 2.x"
   ]
  },
  {
   "cell_type": "markdown",
   "metadata": {
    "slideshow": {
     "slide_type": "fragment"
    }
   },
   "source": [
    ".... And Why I'm So Fucked by Tensorflow\n",
    "\n",
    "[Youtube Stream](https://www.youtube.com/watch?v=OsYcoPYIoBE)"
   ]
  },
  {
   "cell_type": "markdown",
   "metadata": {
    "slideshow": {
     "slide_type": "slide"
    }
   },
   "source": [
    "# About Me\n",
    "\n",
    "- A Python Developer\n",
    "- Interested in machine learning, applied math and its development\n",
    "- Core developer of [`uTensor`](https://utensor.github.io/website/)"
   ]
  },
  {
   "cell_type": "markdown",
   "metadata": {
    "slideshow": {
     "slide_type": "subslide"
    }
   },
   "source": [
    "- `uTensor`\n",
    "\n",
    "![utensor](https://raw.githubusercontent.com/uTensor/uTensor/develop/docs/img/uTensorFlow.jpg)"
   ]
  },
  {
   "cell_type": "markdown",
   "metadata": {
    "slideshow": {
     "slide_type": "subslide"
    }
   },
   "source": [
    "- `utensor_cgen`: code generator for `uTensor`\n",
    "\n",
    "![utensor-cgen](https://raw.githubusercontent.com/uTensor/utensor_cgen/develop/doc/source/_images/utensor-cli-components.drawio.svg)"
   ]
  },
  {
   "cell_type": "markdown",
   "metadata": {
    "slideshow": {
     "slide_type": "slide"
    }
   },
   "source": [
    "# Model Development and Deployment"
   ]
  },
  {
   "cell_type": "markdown",
   "metadata": {
    "slideshow": {
     "slide_type": "fragment"
    }
   },
   "source": [
    "- define the graph"
   ]
  },
  {
   "cell_type": "markdown",
   "metadata": {
    "slideshow": {
     "slide_type": "fragment"
    }
   },
   "source": [
    "- training the graph"
   ]
  },
  {
   "cell_type": "markdown",
   "metadata": {
    "slideshow": {
     "slide_type": "fragment"
    }
   },
   "source": [
    "- **graph transformation**: graph rewriting, including quantization, node fusion, node removal, etc."
   ]
  },
  {
   "cell_type": "markdown",
   "metadata": {
    "slideshow": {
     "slide_type": "fragment"
    }
   },
   "source": [
    "- **saving the graph**: model serialization"
   ]
  },
  {
   "cell_type": "markdown",
   "metadata": {
    "slideshow": {
     "slide_type": "subslide"
    }
   },
   "source": [
    "## Quantization\n",
    "\n",
    "![weight-quantization](images/weight-quantization.png)\n",
    "[credit](https://docs.google.com/presentation/d/1zGm5bqGrkAepwJZ5PABiYjrIKq1pDnzafa8ZYeaFhXY/edit)"
   ]
  },
  {
   "cell_type": "code",
   "execution_count": 1,
   "metadata": {
    "ExecuteTime": {
     "end_time": "2020-10-13T09:26:25.352188Z",
     "start_time": "2020-10-13T09:26:25.346362Z"
    },
    "slideshow": {
     "slide_type": "skip"
    }
   },
   "outputs": [],
   "source": [
    "import warnings\n",
    "warnings.filterwarnings('ignore') # to silence numpy deprecation warnings in Tensorflow 1.x"
   ]
  },
  {
   "cell_type": "code",
   "execution_count": 2,
   "metadata": {
    "ExecuteTime": {
     "end_time": "2020-10-13T09:26:29.385947Z",
     "start_time": "2020-10-13T09:26:26.823723Z"
    },
    "slideshow": {
     "slide_type": "subslide"
    }
   },
   "outputs": [
    {
     "name": "stdout",
     "output_type": "stream",
     "text": [
      "1.13.0-rc1\n"
     ]
    },
    {
     "data": {
      "text/plain": [
       "<tf.Tensor 'import/y_pred:0' shape=(10,) dtype=int64>"
      ]
     },
     "execution_count": 2,
     "metadata": {},
     "output_type": "execute_result"
    }
   ],
   "source": [
    "# Tensorflow 1.x\n",
    "import tensorflow as tf\n",
    "from tensorflow import import_graph_def\n",
    "from tensorflow.tools.graph_transforms import TransformGraph\n",
    "\n",
    "print(tf.__version__)\n",
    "\n",
    "graph = tf.Graph()\n",
    "with graph.as_default():\n",
    "    with tf.gfile.GFile(\"simple_model.pb\", \"rb\") as fid:\n",
    "        graph_def = tf.GraphDef()\n",
    "        graph_def.ParseFromString(fid.read())\n",
    "    out_tensor, = import_graph_def(\n",
    "        graph_def,\n",
    "        return_elements=[\"y_pred:0\"]\n",
    "    )\n",
    "out_tensor"
   ]
  },
  {
   "cell_type": "markdown",
   "metadata": {
    "slideshow": {
     "slide_type": "subslide"
    }
   },
   "source": [
    "float model\n",
    "\n",
    "![simple-model-float](images/simple-model-float.png)"
   ]
  },
  {
   "cell_type": "code",
   "execution_count": 3,
   "metadata": {
    "ExecuteTime": {
     "end_time": "2020-10-13T09:26:31.637544Z",
     "start_time": "2020-10-13T09:26:31.603013Z"
    },
    "slideshow": {
     "slide_type": "subslide"
    }
   },
   "outputs": [],
   "source": [
    "# Quantization in Tensorflow 1.x\n",
    "quant_graph_def = TransformGraph(\n",
    "    graph_def,\n",
    "    inputs=[],\n",
    "    outputs=[\"y_pred\"],\n",
    "    transforms=[\"quantize_weights\", \"quantize_nodes\"]\n",
    ")\n",
    "\n",
    "with open('quant_simple_model.pb', 'wb') as fid:\n",
    "    fid.write(quant_graph_def.SerializeToString())"
   ]
  },
  {
   "cell_type": "markdown",
   "metadata": {
    "slideshow": {
     "slide_type": "subslide"
    }
   },
   "source": [
    "quantized model\n",
    "\n",
    "![simple-model-quant](images/simple-model-quant.png)"
   ]
  },
  {
   "cell_type": "markdown",
   "metadata": {
    "slideshow": {
     "slide_type": "subslide"
    }
   },
   "source": [
    "dynamic quantization\n",
    "\n",
    "![simple-model-quant-zoom](images/simple-model-quant-zoom.png)"
   ]
  },
  {
   "cell_type": "code",
   "execution_count": 1,
   "metadata": {
    "ExecuteTime": {
     "end_time": "2020-10-13T10:06:24.529465Z",
     "start_time": "2020-10-13T10:06:20.755954Z"
    },
    "slideshow": {
     "slide_type": "subslide"
    }
   },
   "outputs": [
    {
     "name": "stdout",
     "output_type": "stream",
     "text": [
      "2.3.1\n"
     ]
    }
   ],
   "source": [
    "import tensorflow as tf\n",
    "\n",
    "print(tf.__version__)"
   ]
  },
  {
   "cell_type": "code",
   "execution_count": null,
   "metadata": {
    "slideshow": {
     "slide_type": "fragment"
    }
   },
   "outputs": [],
   "source": [
    "# Tensorflow 2.x: Tensorflow Lite\n",
    "model = ... # A tensorflow.keras.Model instance, **trained**\n",
    "model.save('model_path') # save model, normal keras save/load api\n",
    "\n",
    "# trainable graph -> constant graph in TF 2.x\n",
    "from tensorflow.python.framework.convert_to_constants import convert_variables_to_constants_v2\n",
    "\n",
    "model_func = tf.function(lambda x: model(x))\n",
    "model_func = model_func.get_concrete_function(tf.TensorSpec(...)) # setup the input spec\n",
    "model_func = convert_variables_to_constants_v2(model_func, lower_control_flow=False)\n",
    "\n",
    "# save the freezed graph as pb file\n",
    "with open('const_graph.pb', 'wb') as fid:\n",
    "    fid.write(model_func.graph.as_graph_def().SerializeToString())\n",
    "\n",
    "# create a converter which will convert a keras model to tflite flatbuffer\n",
    "converter = tf.lite.TFLiteConverter.from_keras_model(model)\n",
    "converter.optimizations = [tf.lite.Optimize.DEFAULT]\n",
    "# represent_ds is an callable which return a generator that will return representative dataset\n",
    "converter.representative_dataset = represent_ds"
   ]
  },
  {
   "cell_type": "code",
   "execution_count": null,
   "metadata": {
    "ExecuteTime": {
     "end_time": "2020-10-13T13:59:16.763842Z",
     "start_time": "2020-10-13T13:59:16.644612Z"
    },
    "slideshow": {
     "slide_type": "subslide"
    }
   },
   "outputs": [],
   "source": [
    "# tflite_buffer are bytes\n",
    "tflite_buffer = converter.convert()\n",
    "\n",
    "with open('model.tflite', 'wb') as fid:\n",
    "    fid.write(tflite_buffer)"
   ]
  },
  {
   "cell_type": "markdown",
   "metadata": {
    "slideshow": {
     "slide_type": "fragment"
    }
   },
   "source": [
    "References\n",
    "\n",
    "- [Post-Train Quantization](https://www.tensorflow.org/lite/performance/post_training_quantization)"
   ]
  },
  {
   "cell_type": "markdown",
   "metadata": {
    "slideshow": {
     "slide_type": "subslide"
    }
   },
   "source": [
    "`Keras` float model\n",
    "\n",
    "![keras-float](images/keras-float.png)"
   ]
  },
  {
   "cell_type": "markdown",
   "metadata": {
    "slideshow": {
     "slide_type": "subslide"
    }
   },
   "source": [
    "`Keras` quantized model (TFLite)\n",
    "\n",
    "![keras-quant](images/keras-quant.png)"
   ]
  },
  {
   "cell_type": "markdown",
   "metadata": {
    "slideshow": {
     "slide_type": "subslide"
    }
   },
   "source": [
    "## Graph Rewriting\n",
    "\n",
    "- [Dropout Removal](https://utensor-cgen.readthedocs.io/en/latest/#use-case-dropout-layer-removal)\n",
    "- [Node Fusion](https://utensor-cgen.readthedocs.io/en/latest/#use-case-node-fusion)"
   ]
  },
  {
   "cell_type": "markdown",
   "metadata": {
    "slideshow": {
     "slide_type": "fragment"
    }
   },
   "source": [
    "Implement with isomorphic subgraph matching"
   ]
  },
  {
   "cell_type": "markdown",
   "metadata": {
    "slideshow": {
     "slide_type": "slide"
    }
   },
   "source": [
    "# Why I'm Sooo Fucked\n",
    "\n",
    "![fucked-by-tf](images/fucked_by_TF.png)"
   ]
  },
  {
   "cell_type": "markdown",
   "metadata": {
    "slideshow": {
     "slide_type": "subslide"
    }
   },
   "source": [
    "## Inconsistent Operation Name"
   ]
  },
  {
   "cell_type": "markdown",
   "metadata": {
    "ExecuteTime": {
     "end_time": "2020-10-13T14:23:18.458985Z",
     "start_time": "2020-10-13T14:23:18.446781Z"
    },
    "slideshow": {
     "slide_type": "fragment"
    }
   },
   "source": [
    "- ex: `Add` vs `QuantizedAdd` vs `AddOp`"
   ]
  },
  {
   "cell_type": "markdown",
   "metadata": {
    "slideshow": {
     "slide_type": "fragment"
    }
   },
   "source": [
    "- Hard to identify the type of an operation/node in the graph"
   ]
  },
  {
   "cell_type": "markdown",
   "metadata": {
    "slideshow": {
     "slide_type": "fragment"
    }
   },
   "source": [
    "- Hard to implement/test isomorphic subgraph matching"
   ]
  },
  {
   "cell_type": "markdown",
   "metadata": {
    "slideshow": {
     "slide_type": "fragment"
    }
   },
   "source": [
    "Operation name/type legalization is required"
   ]
  },
  {
   "cell_type": "markdown",
   "metadata": {
    "slideshow": {
     "slide_type": "subslide"
    }
   },
   "source": [
    "## Fused Operation"
   ]
  },
  {
   "cell_type": "markdown",
   "metadata": {
    "slideshow": {
     "slide_type": "fragment"
    }
   },
   "source": [
    "- ex: `MatMul + Add + <activation_func> => FullyConnected`"
   ]
  },
  {
   "cell_type": "markdown",
   "metadata": {
    "slideshow": {
     "slide_type": "fragment"
    }
   },
   "source": [
    "- Hard to define a **generic** intermediate representation\n",
    "  - `FullyConnected => MatMul + Add + <activation_func>`?\n",
    "  - `MatMul + Add + <activation_func> => FullyConnected`?\n",
    "  - Which is better and why?"
   ]
  },
  {
   "cell_type": "markdown",
   "metadata": {
    "slideshow": {
     "slide_type": "subslide"
    }
   },
   "source": [
    "## Implementation Differences Across Versions"
   ]
  },
  {
   "cell_type": "markdown",
   "metadata": {
    "slideshow": {
     "slide_type": "fragment"
    }
   },
   "source": [
    "- Take `tf.nn.dropout` as example"
   ]
  },
  {
   "cell_type": "markdown",
   "metadata": {
    "slideshow": {
     "slide_type": "subslide"
    }
   },
   "source": [
    "### `Dropout` in Tensorflow 1.x\n",
    "\n",
    "![dropout-v1](images/dropout-v1.png)"
   ]
  },
  {
   "cell_type": "markdown",
   "metadata": {
    "slideshow": {
     "slide_type": "subslide"
    }
   },
   "source": [
    "### `Dropout` in Tensorflow 2.x\n",
    "\n",
    "![dropout-v2](images/dropout-v2.png)"
   ]
  },
  {
   "cell_type": "markdown",
   "metadata": {
    "slideshow": {
     "slide_type": "subslide"
    }
   },
   "source": [
    "## Breaking Changes of Frameworks"
   ]
  },
  {
   "cell_type": "markdown",
   "metadata": {
    "slideshow": {
     "slide_type": "fragment"
    }
   },
   "source": [
    "- Changes in quantization scheme\n",
    "  - Dynamic Quantization v.s Static Quantization\n",
    "  - Quantization-Awared Training"
   ]
  },
  {
   "cell_type": "markdown",
   "metadata": {
    "slideshow": {
     "slide_type": "fragment"
    }
   },
   "source": [
    "- Inconsistent Saving/Loading API"
   ]
  },
  {
   "cell_type": "markdown",
   "metadata": {
    "slideshow": {
     "slide_type": "fragment"
    }
   },
   "source": [
    "- Undocumented features\n",
    "  - [Graph freezing tools in Tensorflow 2.0](https://github.com/tensorflow/tensorflow/blob/r2.0/tensorflow/python/tools/freeze_graph.py)"
   ]
  },
  {
   "cell_type": "markdown",
   "metadata": {
    "slideshow": {
     "slide_type": "slide"
    }
   },
   "source": [
    "# Q & A\n",
    "\n",
    "![joker](images/joker.png)"
   ]
  }
 ],
 "metadata": {
  "celltoolbar": "Slideshow",
  "kernelspec": {
   "display_name": "venv_tf2",
   "language": "python",
   "name": "venv_tf2"
  },
  "language_info": {
   "codemirror_mode": {
    "name": "ipython",
    "version": 3
   },
   "file_extension": ".py",
   "mimetype": "text/x-python",
   "name": "python",
   "nbconvert_exporter": "python",
   "pygments_lexer": "ipython3",
   "version": "3.7.2"
  },
  "toc": {
   "base_numbering": 1,
   "nav_menu": {},
   "number_sections": true,
   "sideBar": true,
   "skip_h1_title": false,
   "title_cell": "Table of Contents",
   "title_sidebar": "Contents",
   "toc_cell": false,
   "toc_position": {},
   "toc_section_display": true,
   "toc_window_display": false
  }
 },
 "nbformat": 4,
 "nbformat_minor": 4
}
