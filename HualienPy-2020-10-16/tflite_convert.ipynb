{
 "cells": [
  {
   "cell_type": "code",
   "execution_count": 1,
   "metadata": {
    "ExecuteTime": {
     "end_time": "2020-10-13T09:27:23.314499Z",
     "start_time": "2020-10-13T09:27:20.014689Z"
    }
   },
   "outputs": [],
   "source": [
    "import tensorflow as tf\n",
    "from tensorflow.keras import Model"
   ]
  },
  {
   "cell_type": "code",
   "execution_count": 2,
   "metadata": {
    "ExecuteTime": {
     "end_time": "2020-10-13T09:27:23.386062Z",
     "start_time": "2020-10-13T09:27:23.334415Z"
    }
   },
   "outputs": [],
   "source": [
    "class SimpleModel(Model):\n",
    "    \n",
    "    def __init__(self):\n",
    "        super().__init__()\n",
    "        self.flatten = tf.keras.layers.Flatten()\n",
    "        self.relu = tf.keras.layers.ReLU()\n",
    "        self.fc1 = tf.keras.layers.Dense(128, use_bias=True)\n",
    "        self.fc2 = tf.keras.layers.Dense(64, use_bias=True)\n",
    "        self.fc3 = tf.keras.layers.Dense(10)\n",
    "    \n",
    "    def call(self, in_tensor):\n",
    "        out = self.flatten(in_tensor)\n",
    "        out = self.fc1(out)\n",
    "        out = self.relu(out)\n",
    "        out = self.fc2(out)\n",
    "        out = self.relu(out)\n",
    "        return self.fc3(out)"
   ]
  },
  {
   "cell_type": "code",
   "execution_count": 3,
   "metadata": {
    "ExecuteTime": {
     "end_time": "2020-10-13T09:27:23.423301Z",
     "start_time": "2020-10-13T09:27:23.388203Z"
    }
   },
   "outputs": [],
   "source": [
    "model = SimpleModel()"
   ]
  },
  {
   "cell_type": "code",
   "execution_count": 4,
   "metadata": {
    "ExecuteTime": {
     "end_time": "2020-10-13T09:27:23.979298Z",
     "start_time": "2020-10-13T09:27:23.425425Z"
    }
   },
   "outputs": [],
   "source": [
    "import tensorflow_datasets as tfds"
   ]
  },
  {
   "cell_type": "code",
   "execution_count": 5,
   "metadata": {
    "ExecuteTime": {
     "end_time": "2020-10-13T09:27:24.157516Z",
     "start_time": "2020-10-13T09:27:23.982027Z"
    }
   },
   "outputs": [],
   "source": [
    "(ds_train, ds_test), ds_info = tfds.load(\n",
    "    'mnist',\n",
    "    split=['train', 'test'],\n",
    "    shuffle_files=True,\n",
    "    as_supervised=True,\n",
    "    download=True,\n",
    "    with_info=True\n",
    ")"
   ]
  },
  {
   "cell_type": "code",
   "execution_count": 6,
   "metadata": {
    "ExecuteTime": {
     "end_time": "2020-10-13T09:27:24.259501Z",
     "start_time": "2020-10-13T09:27:24.159808Z"
    }
   },
   "outputs": [],
   "source": [
    "def normalize_img(image, label):\n",
    "    \"\"\"Normalizes images: `uint8` -> `float32`.\"\"\"\n",
    "    return tf.cast(image, tf.float32) / 255., tf.one_hot(label, 10)\n",
    "\n",
    "ds_train = ds_train.map(\n",
    "    normalize_img, num_parallel_calls=tf.data.experimental.AUTOTUNE)\n",
    "ds_train = ds_train.cache()\n",
    "ds_train = ds_train.shuffle(ds_info.splits['train'].num_examples)\n",
    "ds_train = ds_train.batch(128)\n",
    "ds_train = ds_train.prefetch(tf.data.experimental.AUTOTUNE)"
   ]
  },
  {
   "cell_type": "code",
   "execution_count": 7,
   "metadata": {
    "ExecuteTime": {
     "end_time": "2020-10-13T09:27:24.303980Z",
     "start_time": "2020-10-13T09:27:24.287390Z"
    }
   },
   "outputs": [],
   "source": [
    "ds_test = ds_test.map(\n",
    "    normalize_img, num_parallel_calls=tf.data.experimental.AUTOTUNE)\n",
    "ds_test = ds_test.batch(128)\n",
    "ds_test = ds_test.cache()\n",
    "ds_test = ds_test.prefetch(tf.data.experimental.AUTOTUNE)"
   ]
  },
  {
   "cell_type": "code",
   "execution_count": 8,
   "metadata": {
    "ExecuteTime": {
     "end_time": "2020-10-13T09:27:24.330333Z",
     "start_time": "2020-10-13T09:27:24.306355Z"
    }
   },
   "outputs": [],
   "source": [
    "model.build((None, 28, 28, 1))"
   ]
  },
  {
   "cell_type": "code",
   "execution_count": 9,
   "metadata": {
    "ExecuteTime": {
     "end_time": "2020-10-13T09:27:24.345716Z",
     "start_time": "2020-10-13T09:27:24.336915Z"
    }
   },
   "outputs": [
    {
     "name": "stdout",
     "output_type": "stream",
     "text": [
      "Model: \"simple_model\"\n",
      "_________________________________________________________________\n",
      "Layer (type)                 Output Shape              Param #   \n",
      "=================================================================\n",
      "flatten (Flatten)            multiple                  0         \n",
      "_________________________________________________________________\n",
      "re_lu (ReLU)                 multiple                  0         \n",
      "_________________________________________________________________\n",
      "dense (Dense)                multiple                  100480    \n",
      "_________________________________________________________________\n",
      "dense_1 (Dense)              multiple                  8256      \n",
      "_________________________________________________________________\n",
      "dense_2 (Dense)              multiple                  650       \n",
      "=================================================================\n",
      "Total params: 109,386\n",
      "Trainable params: 109,386\n",
      "Non-trainable params: 0\n",
      "_________________________________________________________________\n"
     ]
    }
   ],
   "source": [
    "model.summary()"
   ]
  },
  {
   "cell_type": "code",
   "execution_count": 10,
   "metadata": {
    "ExecuteTime": {
     "end_time": "2020-10-13T09:27:24.395349Z",
     "start_time": "2020-10-13T09:27:24.361026Z"
    }
   },
   "outputs": [],
   "source": [
    "model.compile(\n",
    "    loss=tf.keras.losses.CategoricalCrossentropy(from_logits=True),\n",
    "    optimizer=tf.keras.optimizers.Adam(0.01),\n",
    "    metrics=['accuracy'],\n",
    ")"
   ]
  },
  {
   "cell_type": "code",
   "execution_count": 11,
   "metadata": {
    "ExecuteTime": {
     "end_time": "2020-10-13T09:27:37.298783Z",
     "start_time": "2020-10-13T09:27:24.835673Z"
    }
   },
   "outputs": [
    {
     "name": "stdout",
     "output_type": "stream",
     "text": [
      "Epoch 1/6\n",
      "469/469 [==============================] - 2s 5ms/step - loss: 0.2252 - accuracy: 0.9299 - val_loss: 0.1455 - val_accuracy: 0.9564\n",
      "Epoch 2/6\n",
      "469/469 [==============================] - 1s 3ms/step - loss: 0.1241 - accuracy: 0.9627 - val_loss: 0.0981 - val_accuracy: 0.9696\n",
      "Epoch 3/6\n",
      "469/469 [==============================] - 1s 3ms/step - loss: 0.0944 - accuracy: 0.9714 - val_loss: 0.1358 - val_accuracy: 0.9654\n",
      "Epoch 4/6\n",
      "469/469 [==============================] - 1s 2ms/step - loss: 0.0861 - accuracy: 0.9744 - val_loss: 0.1028 - val_accuracy: 0.9712\n",
      "Epoch 5/6\n",
      "469/469 [==============================] - 1s 2ms/step - loss: 0.0807 - accuracy: 0.9765 - val_loss: 0.1723 - val_accuracy: 0.9553\n",
      "Epoch 6/6\n",
      "469/469 [==============================] - 1s 2ms/step - loss: 0.0744 - accuracy: 0.9782 - val_loss: 0.1151 - val_accuracy: 0.9719\n"
     ]
    },
    {
     "data": {
      "text/plain": [
       "<tensorflow.python.keras.callbacks.History at 0x136995eb8>"
      ]
     },
     "execution_count": 11,
     "metadata": {},
     "output_type": "execute_result"
    }
   ],
   "source": [
    "model.fit(\n",
    "    ds_train,\n",
    "    epochs=6,\n",
    "    validation_data=ds_test,\n",
    ")"
   ]
  },
  {
   "cell_type": "code",
   "execution_count": 12,
   "metadata": {
    "ExecuteTime": {
     "end_time": "2020-10-13T09:27:37.326246Z",
     "start_time": "2020-10-13T09:27:37.308103Z"
    }
   },
   "outputs": [],
   "source": [
    "converter = tf.lite.TFLiteConverter.from_keras_model(model)"
   ]
  },
  {
   "cell_type": "code",
   "execution_count": 13,
   "metadata": {
    "ExecuteTime": {
     "end_time": "2020-10-13T09:27:37.349494Z",
     "start_time": "2020-10-13T09:27:37.345760Z"
    }
   },
   "outputs": [],
   "source": [
    "def represent_ds():\n",
    "    for _ in range(1024):\n",
    "        yield [\n",
    "            tf.random.uniform((1, 28, 28, 1), 0, 1, dtype=tf.float32)\n",
    "        ]"
   ]
  },
  {
   "cell_type": "code",
   "execution_count": 14,
   "metadata": {
    "ExecuteTime": {
     "end_time": "2020-10-13T09:27:37.363854Z",
     "start_time": "2020-10-13T09:27:37.360125Z"
    }
   },
   "outputs": [],
   "source": [
    "converter.optimizations = [tf.lite.Optimize.DEFAULT]\n",
    "converter.representative_dataset = represent_ds"
   ]
  },
  {
   "cell_type": "code",
   "execution_count": 21,
   "metadata": {
    "ExecuteTime": {
     "end_time": "2020-10-13T09:34:15.254405Z",
     "start_time": "2020-10-13T09:34:15.006511Z"
    }
   },
   "outputs": [
    {
     "name": "stdout",
     "output_type": "stream",
     "text": [
      "INFO:tensorflow:Assets written to: simple_model/assets\n"
     ]
    },
    {
     "name": "stderr",
     "output_type": "stream",
     "text": [
      "INFO:tensorflow:Assets written to: simple_model/assets\n"
     ]
    }
   ],
   "source": [
    "model.save('simple_model/')"
   ]
  },
  {
   "cell_type": "code",
   "execution_count": 25,
   "metadata": {
    "ExecuteTime": {
     "end_time": "2020-10-13T09:36:58.286215Z",
     "start_time": "2020-10-13T09:36:58.281614Z"
    }
   },
   "outputs": [],
   "source": [
    "from tensorflow.python.framework.convert_to_constants import convert_variables_to_constants_v2"
   ]
  },
  {
   "cell_type": "code",
   "execution_count": 26,
   "metadata": {
    "ExecuteTime": {
     "end_time": "2020-10-13T09:38:06.142269Z",
     "start_time": "2020-10-13T09:38:06.018693Z"
    }
   },
   "outputs": [],
   "source": [
    "model_func = tf.function(lambda x: model(x))\n",
    "model_func = model_func.get_concrete_function(tf.TensorSpec((None, 28, 28, 1), dtype=tf.float32))\n",
    "model_func = convert_variables_to_constants_v2(model_func, lower_control_flow=False)"
   ]
  },
  {
   "cell_type": "code",
   "execution_count": 27,
   "metadata": {
    "ExecuteTime": {
     "end_time": "2020-10-13T09:38:53.590531Z",
     "start_time": "2020-10-13T09:38:53.574641Z"
    }
   },
   "outputs": [],
   "source": [
    "with open('simple_model/const_graph.pb', 'wb') as fid:\n",
    "    fid.write(model_func.graph.as_graph_def().SerializeToString())"
   ]
  },
  {
   "cell_type": "code",
   "execution_count": null,
   "metadata": {
    "ExecuteTime": {
     "end_time": "2020-10-13T09:25:07.399443Z",
     "start_time": "2020-10-13T09:25:06.693895Z"
    }
   },
   "outputs": [],
   "source": [
    "tflite_content = converter.convert()"
   ]
  },
  {
   "cell_type": "code",
   "execution_count": 16,
   "metadata": {
    "ExecuteTime": {
     "end_time": "2020-10-13T09:25:30.706981Z",
     "start_time": "2020-10-13T09:25:30.686046Z"
    }
   },
   "outputs": [],
   "source": [
    "with open('./simple_model.tflite', 'wb') as fid:\n",
    "    fid.write(tflite_content)"
   ]
  },
  {
   "cell_type": "code",
   "execution_count": null,
   "metadata": {},
   "outputs": [],
   "source": []
  }
 ],
 "metadata": {
  "kernelspec": {
   "display_name": "venv_tf2",
   "language": "python",
   "name": "venv_tf2"
  },
  "language_info": {
   "codemirror_mode": {
    "name": "ipython",
    "version": 3
   },
   "file_extension": ".py",
   "mimetype": "text/x-python",
   "name": "python",
   "nbconvert_exporter": "python",
   "pygments_lexer": "ipython3",
   "version": "3.7.2"
  },
  "toc": {
   "base_numbering": 1,
   "nav_menu": {},
   "number_sections": true,
   "sideBar": true,
   "skip_h1_title": false,
   "title_cell": "Table of Contents",
   "title_sidebar": "Contents",
   "toc_cell": false,
   "toc_position": {},
   "toc_section_display": true,
   "toc_window_display": false
  }
 },
 "nbformat": 4,
 "nbformat_minor": 4
}
